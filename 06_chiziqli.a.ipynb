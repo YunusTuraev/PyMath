{
 "cells": [
  {
   "cell_type": "markdown",
   "id": "16e8bdc7",
   "metadata": {},
   "source": [
    "# 6. Chiziqli algebra"
   ]
  },
  {
   "cell_type": "code",
   "execution_count": null,
   "id": "38712280",
   "metadata": {},
   "outputs": [],
   "source": []
  },
  {
   "cell_type": "code",
   "execution_count": null,
   "id": "08d358b6",
   "metadata": {},
   "outputs": [],
   "source": []
  },
  {
   "cell_type": "code",
   "execution_count": null,
   "id": "f09c34aa",
   "metadata": {},
   "outputs": [],
   "source": [
    "# Matrissalarni qo'shish va ayirish"
   ]
  },
  {
   "cell_type": "code",
   "execution_count": null,
   "id": "55f74b2c",
   "metadata": {},
   "outputs": [],
   "source": []
  },
  {
   "cell_type": "code",
   "execution_count": null,
   "id": "d950b32d",
   "metadata": {},
   "outputs": [],
   "source": [
    "# Matrissalarni ko'paytirish"
   ]
  },
  {
   "cell_type": "code",
   "execution_count": null,
   "id": "f032ab79",
   "metadata": {},
   "outputs": [],
   "source": []
  },
  {
   "cell_type": "code",
   "execution_count": null,
   "id": "1e465155",
   "metadata": {},
   "outputs": [],
   "source": [
    "# Matrissani transponerlash"
   ]
  },
  {
   "cell_type": "code",
   "execution_count": null,
   "id": "02ebf53e",
   "metadata": {},
   "outputs": [],
   "source": []
  },
  {
   "cell_type": "code",
   "execution_count": null,
   "id": "1bd3ccbd",
   "metadata": {},
   "outputs": [],
   "source": [
    "# Kvadrat matrissa determinantini hisoblash"
   ]
  },
  {
   "cell_type": "code",
   "execution_count": null,
   "id": "cd5ab0cf",
   "metadata": {},
   "outputs": [],
   "source": []
  },
  {
   "cell_type": "code",
   "execution_count": null,
   "id": "4ad040fa",
   "metadata": {},
   "outputs": [],
   "source": [
    "# Matrissa rankini aniqlash"
   ]
  },
  {
   "cell_type": "code",
   "execution_count": null,
   "id": "6d2d31be",
   "metadata": {},
   "outputs": [],
   "source": []
  },
  {
   "cell_type": "code",
   "execution_count": null,
   "id": "24eb13c9",
   "metadata": {},
   "outputs": [],
   "source": [
    "# Matrissaga teskari matrissani topish"
   ]
  },
  {
   "cell_type": "code",
   "execution_count": null,
   "id": "19455b28",
   "metadata": {},
   "outputs": [],
   "source": []
  },
  {
   "cell_type": "code",
   "execution_count": null,
   "id": "f3f4b763",
   "metadata": {},
   "outputs": [],
   "source": [
    "# Chiziqli tenglamalar sistemasini matrissalar usuli bilan yechish"
   ]
  },
  {
   "cell_type": "code",
   "execution_count": null,
   "id": "fd3255ae",
   "metadata": {},
   "outputs": [],
   "source": []
  },
  {
   "cell_type": "code",
   "execution_count": null,
   "id": "9ab9be4b",
   "metadata": {},
   "outputs": [],
   "source": []
  },
  {
   "cell_type": "code",
   "execution_count": null,
   "id": "583aad36",
   "metadata": {},
   "outputs": [],
   "source": []
  },
  {
   "cell_type": "code",
   "execution_count": null,
   "id": "2b4e7aeb",
   "metadata": {},
   "outputs": [],
   "source": []
  }
 ],
 "metadata": {
  "kernelspec": {
   "display_name": "Python 3 (ipykernel)",
   "language": "python",
   "name": "python3"
  },
  "language_info": {
   "codemirror_mode": {
    "name": "ipython",
    "version": 3
   },
   "file_extension": ".py",
   "mimetype": "text/x-python",
   "name": "python",
   "nbconvert_exporter": "python",
   "pygments_lexer": "ipython3",
   "version": "3.9.12"
  }
 },
 "nbformat": 4,
 "nbformat_minor": 5
}
