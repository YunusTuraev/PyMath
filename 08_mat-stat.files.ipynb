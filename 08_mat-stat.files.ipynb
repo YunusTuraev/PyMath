{
 "cells": [
  {
   "cell_type": "markdown",
   "id": "cdb21f60",
   "metadata": {},
   "source": [
    "# 8. Matematik statistika. Fayllar bilan ishlash"
   ]
  },
  {
   "cell_type": "code",
   "execution_count": null,
   "id": "bd51cb94",
   "metadata": {},
   "outputs": [],
   "source": [
    "# Reja: \n",
    "# 1  Matematik statistikaga bazi mashqlarni yechish\n",
    "# 2  Turli tipdagi fayllarni o'qib olish va ular ustida amallar bajarish "
   ]
  },
  {
   "cell_type": "code",
   "execution_count": null,
   "id": "78564502",
   "metadata": {},
   "outputs": [],
   "source": []
  },
  {
   "cell_type": "code",
   "execution_count": null,
   "id": "87f55560",
   "metadata": {},
   "outputs": [],
   "source": []
  },
  {
   "cell_type": "code",
   "execution_count": null,
   "id": "1a48fc31",
   "metadata": {},
   "outputs": [],
   "source": []
  },
  {
   "cell_type": "code",
   "execution_count": null,
   "id": "f206e757",
   "metadata": {},
   "outputs": [],
   "source": []
  },
  {
   "cell_type": "code",
   "execution_count": null,
   "id": "b777b17a",
   "metadata": {},
   "outputs": [],
   "source": []
  },
  {
   "cell_type": "code",
   "execution_count": null,
   "id": "c9d271ae",
   "metadata": {},
   "outputs": [],
   "source": []
  },
  {
   "cell_type": "code",
   "execution_count": null,
   "id": "4242709d",
   "metadata": {},
   "outputs": [],
   "source": []
  },
  {
   "cell_type": "code",
   "execution_count": null,
   "id": "d0a43e04",
   "metadata": {},
   "outputs": [],
   "source": []
  }
 ],
 "metadata": {
  "kernelspec": {
   "display_name": "Python 3 (ipykernel)",
   "language": "python",
   "name": "python3"
  },
  "language_info": {
   "codemirror_mode": {
    "name": "ipython",
    "version": 3
   },
   "file_extension": ".py",
   "mimetype": "text/x-python",
   "name": "python",
   "nbconvert_exporter": "python",
   "pygments_lexer": "ipython3",
   "version": "3.9.12"
  }
 },
 "nbformat": 4,
 "nbformat_minor": 5
}
