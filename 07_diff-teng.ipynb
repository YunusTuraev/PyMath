{
 "cells": [
  {
   "cell_type": "markdown",
   "id": "16e8bdc7",
   "metadata": {},
   "source": [
    "# 7. Oddiy va hususiy hosilali differensial tenglamalarni yechish "
   ]
  },
  {
   "cell_type": "code",
   "execution_count": null,
   "id": "824086c5",
   "metadata": {},
   "outputs": [],
   "source": [
    "# Reja; \n",
    "# 1) Oddiy differensial tenglamalarni yechish\n",
    "# 2) Ma'lum shartli differensial tenglamalarni yechish\n",
    "# 3) Hususiy hosilali differensial tenglamalarni yechish"
   ]
  },
  {
   "cell_type": "markdown",
   "id": "7175aced",
   "metadata": {},
   "source": [
    "7.1 Oddiy differensial tenglamalarni yechish"
   ]
  },
  {
   "cell_type": "markdown",
   "id": "d22855bc",
   "metadata": {},
   "source": [
    "y' = 2x - 5 differensial tenglamani yeching. "
   ]
  },
  {
   "cell_type": "code",
   "execution_count": null,
   "id": "084bb200",
   "metadata": {},
   "outputs": [],
   "source": []
  },
  {
   "cell_type": "code",
   "execution_count": null,
   "id": "2cc46fa2",
   "metadata": {},
   "outputs": [],
   "source": []
  },
  {
   "cell_type": "code",
   "execution_count": null,
   "id": "7f7fecf9",
   "metadata": {},
   "outputs": [],
   "source": []
  },
  {
   "cell_type": "code",
   "execution_count": null,
   "id": "1b975fc5",
   "metadata": {},
   "outputs": [],
   "source": []
  },
  {
   "cell_type": "markdown",
   "id": "766c00ee",
   "metadata": {},
   "source": [
    "7.2 Ma'lum shartli differensial tenglamalarni yechish"
   ]
  },
  {
   "cell_type": "code",
   "execution_count": null,
   "id": "289b24c9",
   "metadata": {},
   "outputs": [],
   "source": []
  },
  {
   "cell_type": "code",
   "execution_count": null,
   "id": "0709456f",
   "metadata": {},
   "outputs": [],
   "source": []
  },
  {
   "cell_type": "code",
   "execution_count": null,
   "id": "1809fa22",
   "metadata": {},
   "outputs": [],
   "source": []
  },
  {
   "cell_type": "code",
   "execution_count": null,
   "id": "b4563123",
   "metadata": {},
   "outputs": [],
   "source": []
  },
  {
   "cell_type": "markdown",
   "id": "3988f4c7",
   "metadata": {},
   "source": [
    "7.3 Hususiy hosilali differensial tenglamalarni yechish"
   ]
  },
  {
   "cell_type": "code",
   "execution_count": null,
   "id": "2db44ba2",
   "metadata": {},
   "outputs": [],
   "source": []
  },
  {
   "cell_type": "code",
   "execution_count": null,
   "id": "261ea8c3",
   "metadata": {},
   "outputs": [],
   "source": []
  },
  {
   "cell_type": "code",
   "execution_count": null,
   "id": "176e62b6",
   "metadata": {},
   "outputs": [],
   "source": []
  },
  {
   "cell_type": "code",
   "execution_count": null,
   "id": "15f0d6bd",
   "metadata": {},
   "outputs": [],
   "source": []
  },
  {
   "cell_type": "code",
   "execution_count": null,
   "id": "fadb29b8",
   "metadata": {},
   "outputs": [],
   "source": []
  }
 ],
 "metadata": {
  "kernelspec": {
   "display_name": "Python 3 (ipykernel)",
   "language": "python",
   "name": "python3"
  },
  "language_info": {
   "codemirror_mode": {
    "name": "ipython",
    "version": 3
   },
   "file_extension": ".py",
   "mimetype": "text/x-python",
   "name": "python",
   "nbconvert_exporter": "python",
   "pygments_lexer": "ipython3",
   "version": "3.9.12"
  }
 },
 "nbformat": 4,
 "nbformat_minor": 5
}
